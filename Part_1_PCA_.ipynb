{
  "cells": [
    {
      "cell_type": "markdown",
      "metadata": {
        "id": "view-in-github",
        "colab_type": "text"
      },
      "source": [
        "<a href=\"https://colab.research.google.com/github/anoukB/tutorial_from_tracking_to_posture_dynamics_temp/blob/main/Part_1_PCA_.ipynb\" target=\"_parent\"><img src=\"https://colab.research.google.com/assets/colab-badge.svg\" alt=\"Open In Colab\"/></a>"
      ]
    },
    {
      "cell_type": "markdown",
      "id": "5e0a8b56",
      "metadata": {
        "id": "5e0a8b56"
      },
      "source": [
        "# Eigenmaggots\n",
        "\n",
        "Note: This notebook is a nearly identical adaptation of the notebook from BingKan Xue, PHZ4710 - Introduction to Biological Physics, University of Florida about Eigenworms. The quotes are directly from it.  \n"
      ]
    },
    {
      "cell_type": "markdown",
      "source": [
        "## Imports and installations\n",
        "\n",
        "This first section makes sure you have all the necessary functions to run this tutorial smoothly."
      ],
      "metadata": {
        "id": "6IEyMQNqZQMR"
      },
      "id": "6IEyMQNqZQMR"
    },
    {
      "cell_type": "code",
      "source": [
        "#Install necessary environment for display of videos\n",
        "!pip install -U kora\n",
        "from kora.drive import upload_public\n",
        "from IPython.display import HTML\n",
        "\n",
        "#Other imports\n",
        "import os\n",
        "import random\n",
        "import numpy as np\n",
        "import matplotlib.pyplot as plt\n",
        "import matplotlib.animation as anim\n"
      ],
      "metadata": {
        "id": "KJ4ZPgOoUsdT"
      },
      "id": "KJ4ZPgOoUsdT",
      "execution_count": null,
      "outputs": []
    },
    {
      "cell_type": "code",
      "source": [
        "#Make a function to display pictures easily\n",
        "def display_picture(url):\n",
        "  im = plt.imread(url)\n",
        "\n",
        "  fig, axs = plt.subplots(ncols=1, nrows=1)\n",
        "  axs.imshow(im, cmap='gray')\n",
        "  axs.set_axis_off()"
      ],
      "metadata": {
        "id": "axWmIrfqYvBM"
      },
      "id": "axWmIrfqYvBM",
      "execution_count": null,
      "outputs": []
    },
    {
      "cell_type": "code",
      "source": [
        "#Clone the repository with all files, images and videos. This will result in a folder called cloned-repo\n",
        "!git clone -l -s https://github.com/anoukB/tutorial_from_tracking_to_posture_dynamics cloned-repo\n",
        "%cd cloned-repo\n",
        "!ls  #Listo of all elements in the repo"
      ],
      "metadata": {
        "id": "sk1n66-IaAFu"
      },
      "id": "sk1n66-IaAFu",
      "execution_count": null,
      "outputs": []
    },
    {
      "cell_type": "markdown",
      "source": [
        "*** STOP HERE :)***\n",
        "\n",
        "You need to set the directory for all the files that will be used in the tutorial. If they have been cloned from GitHub into '/content/cloned-repo/', copy-paste the example. Otherwise, write down the appropriate directory."
      ],
      "metadata": {
        "id": "kzsKtZec64E7"
      },
      "id": "kzsKtZec64E7"
    },
    {
      "cell_type": "code",
      "source": [
        "#Example:\n",
        "#directory = '/content/cloned-repo/'\n",
        "\n",
        "directory ="
      ],
      "metadata": {
        "id": "WZ3kD-RY6h8o"
      },
      "id": "WZ3kD-RY6h8o",
      "execution_count": null,
      "outputs": []
    },
    {
      "cell_type": "markdown",
      "source": [
        "## Introduction"
      ],
      "metadata": {
        "id": "C3Mufli6ZZcS"
      },
      "id": "C3Mufli6ZZcS"
    },
    {
      "cell_type": "markdown",
      "id": "c3fdbee5",
      "metadata": {
        "id": "c3fdbee5"
      },
      "source": [
        "In this first notebook of the series, we start our analysis by using a dimensionality reduction method in posture space.\n",
        "\n",
        "\"As one can imagine, behavior can be highly complex. In some animals, biologists have classified behavior by stereotypical postures or movements that they have defined based on experience. Recent technology, such as high-resolution and high-speed digital cameras, has allowed us to take a more quantitative approach by collecting data on behavior. However, the data will most likely be high dimensional, as they may represent the color of each pixel, the position of each body part, etc. Our goal is to see if we can simplify such high-dimensional representation to a much lower-dimensional description, and perhaps these \"principal\" dimensions would match the stereotypical behaviors that were found \"manually\". Thus, we look for an automated and unbiased way of reducing the dimensionality of data to help us extract the basic modes of behavior.\"\n",
        "\n",
        "The dataset we will use in this notebook and throughout the series is from Irina Korshok's experiment (Okinawa Institute of Science and Technology), where a  single Drosophila larva is freely crawling around in a foodless petri dish and recorded at 5 frames per second. Here is a short example video of the recording. We will focus our investigation on the curvature of the larva for this tutorial, and exclude the peristaltic movement for now.\n",
        "\n",
        "\n"
      ]
    },
    {
      "cell_type": "code",
      "source": [
        "#Video of the experiment\n",
        "url = upload_public(directory + 'vid_larva_experiment_Irina_Korshok.mp4')\n",
        "\n",
        "HTML(f\"\"\"<video src={url} width=500 controls/>\"\"\")\n",
        "\n"
      ],
      "metadata": {
        "id": "BIWxtty3UojD"
      },
      "id": "BIWxtty3UojD",
      "execution_count": null,
      "outputs": []
    },
    {
      "cell_type": "markdown",
      "source": [
        "\n",
        "Even though the image is made of thousands of pixels, they are not all instrumental in describing the larva's posture. How much information is enough? The first thing to notice is that the larva is made of individual segments (12) which are repeated functional units. The segments are great natural candidates to describe the larva's posture. In this experiment, the position of individual segments on both sides of the body is tracked using the SLEAP software. The tubular shape of the larva also allows us to draw a curve in the middle (midline), reducing the number of points by two. We then follow the positions of the 12 segments along the midline. The tracked data points look like the following.\n"
      ],
      "metadata": {
        "id": "2rYFFmaeUjEo"
      },
      "id": "2rYFFmaeUjEo"
    },
    {
      "cell_type": "code",
      "source": [
        "#Video of the segments position extracted from the experiment\n",
        "url = upload_public(directory + 'vid_tracked_larva_segments.mp4')\n",
        "HTML(f\"\"\"<video src={url} width=500 controls/>\"\"\")"
      ],
      "metadata": {
        "id": "tMS3Y98hWMQl"
      },
      "id": "tMS3Y98hWMQl",
      "execution_count": null,
      "outputs": []
    },
    {
      "cell_type": "markdown",
      "source": [
        "Since the shape of the midline is invariant to translation or rotation, we can use the relative positions of each frame instead of their absolute coordinates. This means that instead of the (x,y) coordinates, we can directly calculate the angles of each segment relative to the horizontal line, as shown in the following picture."
      ],
      "metadata": {
        "id": "4uH1TcGLWXxA"
      },
      "id": "4uH1TcGLWXxA"
    },
    {
      "cell_type": "code",
      "source": [
        "display_picture(directory + 'img_angles_calculation.png')"
      ],
      "metadata": {
        "id": "qrvw4T68Wp_z"
      },
      "id": "qrvw4T68Wp_z",
      "execution_count": null,
      "outputs": []
    },
    {
      "cell_type": "markdown",
      "source": [
        "\n",
        "\n",
        "To extract angles, all frames were first centered on top of each other. The D = 11 angles relative to the horizontal line were calculated and an overall rotation mode was removed by subtracting $\\Sigma \\theta_i/ D $ from each angle.\n",
        "\n",
        "The dataset then contains angles exclusively, peristalsis is removed. The tracked angles data look like the following:"
      ],
      "metadata": {
        "id": "VDivnqz1Y9Po"
      },
      "id": "VDivnqz1Y9Po"
    },
    {
      "cell_type": "code",
      "source": [
        "#Video of the extracted angles\n",
        "url = upload_public(directory + 'vid_tracked_larva_angles.mp4')\n",
        "HTML(f\"\"\"<video src={url} width=500 controls/>\"\"\")"
      ],
      "metadata": {
        "id": "fIyKOsJ4Y_yc"
      },
      "id": "fIyKOsJ4Y_yc",
      "execution_count": null,
      "outputs": []
    },
    {
      "cell_type": "markdown",
      "source": [
        "We now have a 11-dimensional dataset to describe the larva's curvature. With this analysis, we will see how much more we can reduce that space."
      ],
      "metadata": {
        "id": "sb0lZdOJY_9W"
      },
      "id": "sb0lZdOJY_9W"
    },
    {
      "cell_type": "markdown",
      "id": "d67965ce",
      "metadata": {
        "id": "d67965ce"
      },
      "source": [
        "## Principal Component Analysis (PCA)"
      ]
    },
    {
      "cell_type": "markdown",
      "id": "da5267cb",
      "metadata": {
        "id": "da5267cb"
      },
      "source": [
        "We have 2993 frames, each with a 11-D vector of angles. We first load the data."
      ]
    },
    {
      "cell_type": "code",
      "execution_count": null,
      "id": "58615e40",
      "metadata": {
        "id": "58615e40"
      },
      "outputs": [],
      "source": [
        "# Load the file with angles from the proper directory\n",
        "dir_file_storage = directory  #Choose your directory if using your own data\n",
        "filename =  \"file_angles_larva.csv\"  #Filename\n",
        "angles = np.loadtxt(dir_file_storage + filename , delimiter = \",\")"
      ]
    },
    {
      "cell_type": "markdown",
      "id": "59b6ee4e",
      "metadata": {
        "id": "59b6ee4e"
      },
      "source": [
        "### Covariance matrix"
      ]
    },
    {
      "cell_type": "markdown",
      "id": "49f2fadd",
      "metadata": {
        "id": "49f2fadd"
      },
      "source": [
        "\"We can think of each data point as a point in a $D$-dimensional space, and we have $N$ such points in that space. The idea of dimensionality reduction is that maybe these points lie in a lower dimensional subspace, like a 2D plane in a 3D space. In order to find such a subspace, we need to see how much the points vary in each direction. For example, if all points lie on a plane, then there will be variations parallel to the plane but no variation in the perpendicular direction. To find such major directions of variation, we will calculate the covariance matrix of these points.\n",
        "\n",
        "Let the data be denoted by $X_{ni}$, where $n = 1, \\cdots, N$ are the indices of the data points and $i = 1, \\cdots, D$ are the indices of the components. The covariance matrix is given by:\n",
        "\\begin{equation}\n",
        "C_{ij} = \\frac{1}{N} \\sum_{n=1}^{N} (X_{ni} - \\bar{X}_i) (X_{nj} - \\bar{X}_j)\n",
        "\\end{equation}\n",
        "where $\\bar{X}_i$ is the mean values of all data points given by:\n",
        "\\begin{equation}\n",
        "\\bar{X}_i = \\frac{1}{N} \\sum_{n=1}^{N} X_{ni}\n",
        "\\end{equation}\n",
        "The covariance matrix is a $(D \\times D)$ matrix, whose diagonal elements are the variance of the data points along each axis, and the off-diagonal elements are the covariance between two components. We can calculate the covariance matrix as follows.\""
      ]
    },
    {
      "cell_type": "code",
      "execution_count": null,
      "id": "1ae62aec",
      "metadata": {
        "id": "1ae62aec"
      },
      "outputs": [],
      "source": [
        "N = angles.shape[0] # number of data points\n",
        "x_mean = np.mean(angles,axis=0)  # mean over data points\n",
        "x_cent = angles - x_mean  # centered data\n",
        "cov = np.dot(x_cent.T, x_cent) / N  # covariance matrix\n",
        "\n",
        "plt.figure()\n",
        "plt.imshow(cov)\n",
        "plt.colorbar()\n",
        "plt.show()"
      ]
    },
    {
      "cell_type": "markdown",
      "id": "5230c9f7",
      "metadata": {
        "id": "5230c9f7"
      },
      "source": [
        "\"There is a clear structure in the covariance matrix, which suggests that the data points have larger variation in certain directions than others. However, the largest variations may not be as simple as being along some basic axes of the space. Rather, we have the freedom to rotate the axes and find the directions of most variation. This can be done by finding the eigenvectors of the covariance matrix that have the largest eigenvalues. We can calculate the eigenvalues and eigenvectors using the numpy.linalg.eig function. (Note that, because the covariance matrix is real and symmetric, all eigenvalues and eigenvectors are real. This allows us to use the eigh function instead.)\n",
        "\"\n",
        "\n",
        "Let us interpret this covariance matrix.\n",
        "In a covariance matrix, the diagonal terms represent the variance of the measurements. A large variance indicates an interesting structure along the axis of that measurement. Here, we note that the highest diagonal terms are at the larva's head, and a bit at its tail. It makes sense since the larva mainly explores its environment with its head.\n",
        "Off-diagonal terms present the covariance between measurements. Non-zero off-diagonal terms indicate a redundancy in the measurements (they indirectly measure the same thing). A zero covariance means that the measurements are independent. We also see non-zero off-diagonal terms around the head and tail, which should not surprise us as close segments have more chances of redundancy. There is no covariance between head and tail:  they are independent measurements."
      ]
    },
    {
      "cell_type": "markdown",
      "id": "caa40982",
      "metadata": {
        "id": "caa40982"
      },
      "source": [
        "### Eigenvalues of the covariance matrix"
      ]
    },
    {
      "cell_type": "code",
      "execution_count": null,
      "id": "f56826ba",
      "metadata": {
        "id": "f56826ba"
      },
      "outputs": [],
      "source": [
        "w, v = np.linalg.eigh(cov)  # find eigenvalues and eigenvectors of a real symmetric matrix\n",
        "sort = np.argsort(w)[::-1]  # sort eigenvalues from largest to smallest\n",
        "w = w[sort]\n",
        "v = v[:, sort]  # sort eigenvectors accordingly\n",
        "\n",
        "plt.figure()\n",
        "plt.plot(w, 'o-')\n",
        "plt.xlabel('eigenmode')\n",
        "plt.ylabel('eigenvalue')\n",
        "plt.show()\n",
        "\n"
      ]
    },
    {
      "cell_type": "markdown",
      "id": "9b6fc2b2",
      "metadata": {
        "id": "9b6fc2b2"
      },
      "source": [
        "When we plot the sorted eigenvalues, we note that their values drop rapidly after the first few modes. Each of the eigenvalues is associated with an eigenvector. The eigenvectors associated with the highest eigenvalues are what we will call \"Principal Components\". To decide how many principal components we keep, we can calculate which eigenvalue accounts for how much of the total variance in the dataset."
      ]
    },
    {
      "cell_type": "code",
      "execution_count": null,
      "id": "b37cc8b2",
      "metadata": {
        "id": "b37cc8b2"
      },
      "outputs": [],
      "source": [
        "w = w / np.sum(w)  # normalized eigenvalues = variance along each principal component\n",
        "wsum = np.cumsum(w)  # cumulative sum of normalized eigenvalues = variance captured\n",
        "\n",
        "\n",
        "plt.figure(figsize=(5, 5))\n",
        "plt.plot(np.arange(1, 9), wsum[:8], 'o-')\n",
        "plt.ylim(0, 1)\n",
        "plt.xticks(np.arange(1, 9))\n",
        "plt.xlabel('# principal components', fontsize=16)\n",
        "plt.ylabel('cumulative variance', fontsize=16)\n",
        "plt.show()"
      ]
    },
    {
      "cell_type": "markdown",
      "id": "f191ece4",
      "metadata": {
        "id": "f191ece4"
      },
      "source": [
        "This plot shows that over 96% of the variance is explained by the first four components, and over 80% just by the first one. We will keep only four in this case, but we could decide to keep more if we wanted additional precision. We then reduced our posture space to 4 dimensions. We can plot the principal components to see what these dimensions look like."
      ]
    },
    {
      "cell_type": "markdown",
      "id": "56fd0ada",
      "metadata": {
        "id": "56fd0ada"
      },
      "source": [
        "### Eigenvectors of the covariance matrix (principal components)"
      ]
    },
    {
      "cell_type": "code",
      "execution_count": null,
      "id": "a2f12401",
      "metadata": {
        "id": "a2f12401"
      },
      "outputs": [],
      "source": [
        "K = 4  # Choose the number of principal components you want\n",
        "PC = v[:, :K]  # eigenvectors for these PCs; each column is one PC\n",
        "\n",
        "fig, ax = plt.subplots(1, K, figsize=(5 * K, 4))\n",
        "\n",
        "for i in range(K):\n",
        "    ax[i].plot(PC[:, i])\n",
        "    ax[i].set_title(f'PC{i + 1}')\n",
        "plt.show()\n"
      ]
    },
    {
      "cell_type": "markdown",
      "id": "126633d7",
      "metadata": {
        "id": "126633d7"
      },
      "source": [
        "These vectors are the 11 consecutive angles associated with the 11 segments of the larva. We can use those as new basis vectors to decompose any shape of the larva into four components. In other words, any shape of the larva could be described as a linear combination of these \"eigenmaggots\".\n",
        "\n",
        "To visualize the shape of these eigenworms, we need to convert from angles of consecutive segments back to the positions of the endpoints. This is done by the following function."
      ]
    },
    {
      "cell_type": "code",
      "execution_count": null,
      "id": "9d0382c4",
      "metadata": {
        "id": "9d0382c4"
      },
      "outputs": [],
      "source": [
        "def angle2pos(angles):\n",
        "    \"\"\"\n",
        "    convert from angles of consecutive segments of unit length to positions of their endpoints.\n",
        "    inputs:\n",
        "    angles: 1-d array, angles of consecutive segments.\n",
        "    outputs:\n",
        "    pos: 2-d array, each row is (x,y) coordinates of an endpoint, centered at zeros.\n",
        "    \"\"\"\n",
        "    dx = np.cos(angles)\n",
        "    dy = np.sin(angles)\n",
        "    xsum = np.cumsum(dx)\n",
        "    ysum = np.cumsum(dy)\n",
        "    pos = np.zeros((angles.shape[0]+1, 2))\n",
        "    pos[1:,0] = xsum\n",
        "    pos[1:,1] = ysum\n",
        "    mean = np.mean(pos, axis=0)\n",
        "    pos = pos - mean\n",
        "    return pos"
      ]
    },
    {
      "cell_type": "markdown",
      "id": "a36fc5ae",
      "metadata": {
        "id": "a36fc5ae"
      },
      "source": [
        "We can now plot the eigenmaggots in position space."
      ]
    },
    {
      "cell_type": "code",
      "execution_count": null,
      "id": "1ef09dc2",
      "metadata": {
        "id": "1ef09dc2"
      },
      "outputs": [],
      "source": [
        "pos_all = []\n",
        "for i in range(K):\n",
        "    pos = angle2pos(PC[:,i])    # convert PC to positions\n",
        "    pos_all.append(pos)\n",
        "\n",
        "fig, ax = plt.subplots(1,K, figsize=(5*K,4))\n",
        "for i in range(K):\n",
        "    pos = pos_all[i]\n",
        "    ax[i].plot(pos[:,0], pos[:,1], '.-')\n",
        "    ax[i].set_aspect('equal')\n",
        "    ax[i].axis('off')\n",
        "plt.show()"
      ]
    },
    {
      "cell_type": "markdown",
      "id": "08ea0fd9",
      "metadata": {
        "id": "08ea0fd9"
      },
      "source": [
        "The ultimate test of our dimensionality reduction is to see if we can recover the original shapes of the larva using only these principal components. In other words, we will try to reconstruct the data from only the projections onto the principal components. The projections are given by:\n",
        "\\begin{equation}\n",
        "Y_{nk} = \\sum_{i} X_{ni} v_{ik}\n",
        "\\end{equation}\n",
        "where `v` is the 2-d array returned by the `eigh()` function, each column of which is an eigenvector. We only need to calculate the first few components, $k = 1, \\cdots, K$. The reconstructed data are given by:\n",
        "\\begin{equation}\n",
        "\\hat{X}_{ni} = \\sum_{k=1}^{K} Y_{nk} v_{ik} = \\sum_{k=1}^{K} Y_{nk} \\big( v^\\top \\big)_{ki}\n",
        "\\end{equation}"
      ]
    },
    {
      "cell_type": "markdown",
      "id": "aecf6ba3",
      "metadata": {
        "id": "aecf6ba3"
      },
      "source": [
        "### Data reconstruction"
      ]
    },
    {
      "cell_type": "code",
      "execution_count": null,
      "id": "651ee22e",
      "metadata": {
        "id": "651ee22e"
      },
      "outputs": [],
      "source": [
        "# The first step is to reconstruct a time series from the projected data\n",
        "\n",
        "x_project = np.dot(x_cent, PC)  # project (centered) data onto principal components\n",
        "x_reconstruct = np.dot(x_project, PC.T) + x_mean  # reconstruct data from the projections"
      ]
    },
    {
      "cell_type": "code",
      "execution_count": null,
      "id": "828deccd",
      "metadata": {
        "id": "828deccd"
      },
      "outputs": [],
      "source": [
        "pos_original = angle2pos(angles[0,:])    # original data from one frame\n",
        "pos_reconstruct = angle2pos(x_reconstruct[0,:])    # reconstructed data\n",
        "\n",
        "plt.figure(figsize=(4,4))\n",
        "plt.plot(pos_original[:,0], pos_original[:,1], '.-', label='original')\n",
        "plt.plot(pos_reconstruct[:,0], pos_reconstruct[:,1], '.-', label='reconstructed')\n",
        "plt.xlim(-10, 10)\n",
        "plt.ylim(-10, 10)\n",
        "plt.legend()\n",
        "plt.axis('off')\n",
        "plt.show()"
      ]
    },
    {
      "cell_type": "markdown",
      "id": "e50bf605",
      "metadata": {
        "id": "e50bf605"
      },
      "source": [
        "\"Our reconstruction is very faithful to the original shape. There could be small discrepancies in some shapes due to our ignoring the \"higher orders\" in the decomposition. Nevertheless, the reduced description is much more concise (and space-saving and fast-to-process on computers), and hopefully accurate enough for further studies. \" Finally, we can make a video of our data to verify how accurate our reconstruction looks."
      ]
    },
    {
      "cell_type": "code",
      "execution_count": null,
      "id": "152d0f30",
      "metadata": {
        "id": "152d0f30"
      },
      "outputs": [],
      "source": [
        "#Make an animation that superposes the raw data and the reconstructed data\n",
        "plt.rcParams[\"animation.html\"] = \"jshtml\"\n",
        "fig, ax = plt.subplots(figsize=(4,4))\n",
        "ax.set_xlim(-10, 10)\n",
        "ax.set_ylim(-10, 10)\n",
        "ax.axis('off')\n",
        "p0, = ax.plot([], [], '.')\n",
        "p1, = ax.plot([], [], '.')\n",
        "\n",
        "def animate(t):\n",
        "    pos_original = angle2pos(angles[t,:]) #original data\n",
        "    pos_reconstruct = angle2pos(x_reconstruct[t, :]) # reconstructed data from the principal components\n",
        "    p0.set_data(pos_original[:,0], pos_original[:,1])\n",
        "    p1.set_data(pos_reconstruct[:, 0], pos_reconstruct[:, 1])\n",
        "    return\n",
        "\n",
        "mov = anim.FuncAnimation(fig, animate, frames=range(0, angles.shape[0]), interval=250)\n",
        "writervideo = anim.FFMpegWriter(fps=5) #Insert here the correst fps for your data\n",
        "plt.close()"
      ]
    },
    {
      "cell_type": "code",
      "execution_count": null,
      "id": "6a6aea4d",
      "metadata": {
        "id": "6a6aea4d"
      },
      "outputs": [],
      "source": [
        "# Visualize the video\n",
        "mov"
      ]
    },
    {
      "cell_type": "markdown",
      "id": "1de96116",
      "metadata": {
        "id": "1de96116"
      },
      "source": [
        "Finally, we load the time series projected onto the four principal components into a file, which we will use in the next parts of our analysis.\n",
        "***Add the directory you want to store you file in. ***"
      ]
    },
    {
      "cell_type": "code",
      "execution_count": null,
      "id": "ff974e5f",
      "metadata": {
        "id": "ff974e5f"
      },
      "outputs": [],
      "source": [
        "filename = \"principal_components_time_series_larva\" # Insert a filename here\n",
        "dir_file_storage = directory #Add your directory here\n",
        "file = open(dir_file_storage + filename + \".csv\", \"w\")\n",
        "np.savetxt(file, x_project, delimiter=\",\")\n",
        "file.close()"
      ]
    },
    {
      "cell_type": "markdown",
      "id": "b815dc62",
      "metadata": {
        "id": "b815dc62"
      },
      "source": [
        "NB: PCA is fundamentally a linear technique. If posture follows very complicated non-linear manifolds, there is a chance that PCA might not be the correct dimensionality-reduction technique for your dataset."
      ]
    }
  ],
  "metadata": {
    "kernelspec": {
      "display_name": "Python 3 (ipykernel)",
      "language": "python",
      "name": "python3"
    },
    "language_info": {
      "codemirror_mode": {
        "name": "ipython",
        "version": 3
      },
      "file_extension": ".py",
      "mimetype": "text/x-python",
      "name": "python",
      "nbconvert_exporter": "python",
      "pygments_lexer": "ipython3",
      "version": "3.11.5"
    },
    "colab": {
      "provenance": [],
      "include_colab_link": true
    }
  },
  "nbformat": 4,
  "nbformat_minor": 5
}